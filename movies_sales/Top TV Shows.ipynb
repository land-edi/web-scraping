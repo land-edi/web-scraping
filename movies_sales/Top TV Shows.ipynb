{
 "cells": [
  {
   "cell_type": "markdown",
   "metadata": {},
   "source": [
    "# Top 250 IMDB Rated TV Shows and their episodes\n",
    "\n",
    "In This notebook, we are going to collect data by scrapind the IMDB Website to get the top 250 TV Shows, Then we will use the OMDB API to get the rating, release date and title of each episode for all seasons"
   ]
  },
  {
   "cell_type": "code",
   "execution_count": 1,
   "metadata": {},
   "outputs": [],
   "source": [
    "# Dependencies\n",
    "from bs4 import BeautifulSoup\n",
    "import pandas as pd\n",
    "import requests\n",
    "import json\n",
    "from config import api_key"
   ]
  },
  {
   "cell_type": "code",
   "execution_count": 2,
   "metadata": {},
   "outputs": [
    {
     "data": {
      "text/html": [
       "<div>\n",
       "<style scoped>\n",
       "    .dataframe tbody tr th:only-of-type {\n",
       "        vertical-align: middle;\n",
       "    }\n",
       "\n",
       "    .dataframe tbody tr th {\n",
       "        vertical-align: top;\n",
       "    }\n",
       "\n",
       "    .dataframe thead th {\n",
       "        text-align: right;\n",
       "    }\n",
       "</style>\n",
       "<table border=\"1\" class=\"dataframe\">\n",
       "  <thead>\n",
       "    <tr style=\"text-align: right;\">\n",
       "      <th></th>\n",
       "      <th>TV Show</th>\n",
       "      <th>TV Show Rating</th>\n",
       "    </tr>\n",
       "  </thead>\n",
       "  <tbody>\n",
       "    <tr>\n",
       "      <th>0</th>\n",
       "      <td>Planet Earth II</td>\n",
       "      <td>9.5</td>\n",
       "    </tr>\n",
       "    <tr>\n",
       "      <th>1</th>\n",
       "      <td>Band of Brothers</td>\n",
       "      <td>9.4</td>\n",
       "    </tr>\n",
       "    <tr>\n",
       "      <th>2</th>\n",
       "      <td>Game of Thrones</td>\n",
       "      <td>9.4</td>\n",
       "    </tr>\n",
       "    <tr>\n",
       "      <th>3</th>\n",
       "      <td>Planet Earth</td>\n",
       "      <td>9.4</td>\n",
       "    </tr>\n",
       "    <tr>\n",
       "      <th>4</th>\n",
       "      <td>Breaking Bad</td>\n",
       "      <td>9.4</td>\n",
       "    </tr>\n",
       "  </tbody>\n",
       "</table>\n",
       "</div>"
      ],
      "text/plain": [
       "            TV Show TV Show Rating\n",
       "0   Planet Earth II            9.5\n",
       "1  Band of Brothers            9.4\n",
       "2   Game of Thrones            9.4\n",
       "3      Planet Earth            9.4\n",
       "4      Breaking Bad            9.4"
      ]
     },
     "execution_count": 2,
     "metadata": {},
     "output_type": "execute_result"
    }
   ],
   "source": [
    "#Get the top 250 TV Shows\n",
    "url = 'https://www.imdb.com/chart/toptv/'\n",
    "\n",
    "# Retrieve page with the requests module\n",
    "response = requests.get(url)\n",
    "\n",
    "show_name = []\n",
    "show_rating = []\n",
    "\n",
    "#Create the soup object to extract the data\n",
    "soup = BeautifulSoup(response.text, 'html.parser')\n",
    "tv_shows = soup.find('tbody', class_='lister-list').find_all('tr')\n",
    "        \n",
    "for show in tv_shows:\n",
    "    my_text = show.find('td', class_='titleColumn')\n",
    "    show_name.append(my_text.a.text)\n",
    "    show_rating.append(show.find('td', class_='ratingColumn').text.strip())\n",
    "\n",
    "tvshow_dt = pd.DataFrame({\"TV Show\": show_name, \"TV Show Rating\":show_rating})\n",
    "tvshow_dt.head()"
   ]
  },
  {
   "cell_type": "markdown",
   "metadata": {},
   "source": [
    "## Get all episodes\n",
    "\n",
    "We will get each episode title, release date and rating from OMDB API (Json)"
   ]
  },
  {
   "cell_type": "code",
   "execution_count": 3,
   "metadata": {},
   "outputs": [],
   "source": [
    "# Save config information.\n",
    "url = \"http://www.omdbapi.com/?\"\n",
    "\n",
    "# Build partial query URL\n",
    "query_url = f\"{url}apikey={api_key}&t=\""
   ]
  },
  {
   "cell_type": "code",
   "execution_count": 4,
   "metadata": {},
   "outputs": [],
   "source": [
    "#This function get the episodes for a given tv show\n",
    "def get_episodes(show):\n",
    "    total_seasons = 1\n",
    "    curr_season = 1\n",
    "    show_title = []\n",
    "    show_totseason = []\n",
    "    season = []\n",
    "    episode_number = []\n",
    "    episode_title = []\n",
    "    release_date = []\n",
    "    episode_rating = []\n",
    "    try:\n",
    "        while curr_season <= total_seasons:\n",
    "            response = requests.get(f\"{query_url}{show}&season={curr_season}\").json()\n",
    "            total_seasons = int(response[\"totalSeasons\"])\n",
    "            episodes = response[\"Episodes\"]\n",
    "            for episode in episodes:\n",
    "                show_title.append(response[\"Title\"])\n",
    "                show_totseason.append(total_seasons)\n",
    "                season.append(curr_season)\n",
    "                episode_number.append(int(episode[\"Episode\"]))\n",
    "                episode_title.append(episode[\"Title\"])\n",
    "                release_date.append(episode[\"Released\"])\n",
    "                episode_rating.append(episode[\"imdbRating\"])\n",
    "            curr_season +=1\n",
    "    except:\n",
    "        print(f\"There is no season found for {show}\")\n",
    "        \n",
    "    show_df = pd.DataFrame({\"TV Show\": show_title\n",
    "                            , \"Number of Seasons\": show_totseason\n",
    "                            , \"Season\": season\n",
    "                            , \"Episode\": episode_number\n",
    "                            , \"Title\": episode_title\n",
    "                            , \"Released\": release_date\n",
    "                            , \"Episode Rating\": episode_rating})\n",
    "    return show_df  "
   ]
  },
  {
   "cell_type": "code",
   "execution_count": 5,
   "metadata": {},
   "outputs": [
    {
     "name": "stdout",
     "output_type": "stream",
     "text": [
      "There is no season found for Apocalypse: La 2ème guerre mondiale\n",
      "There is no season found for House M.D.\n",
      "There is no season found for Dragon Ball Z\n",
      "There is no season found for Dragon Ball Z: Doragon bôru zetto\n",
      "There is no season found for Kôdo giasu: Hangyaku no rurûshu\n",
      "There is no season found for Long Way Round\n",
      "There is no season found for Gomorra: La serie\n",
      "There is no season found for Leyla ile Mecnun\n",
      "There is no season found for Shin Seiki Evangerion\n",
      "There is no season found for Sseulsseulhago Chalranhashin: Dokkaebi\n",
      "There is no season found for Dr. Horrible's Sing-Along Blog\n",
      "There is no season found for Whose Line Is It Anyway?\n",
      "There is no season found for Boku dake ga inai machi\n",
      "There is no season found for Kôkaku kidôtai: Stand Alone Complex\n",
      "There is no season found for I'm Alan Partridge\n",
      "There is no season found for Enaaya\n",
      "There is no season found for Avrupa Yakasi\n",
      "There is no season found for Naruto: Shippûden\n"
     ]
    }
   ],
   "source": [
    "tvepisode_dt = pd.concat(map(get_episodes, tvshow_dt[\"TV Show\"]))"
   ]
  },
  {
   "cell_type": "code",
   "execution_count": 6,
   "metadata": {},
   "outputs": [
    {
     "data": {
      "text/html": [
       "<div>\n",
       "<style scoped>\n",
       "    .dataframe tbody tr th:only-of-type {\n",
       "        vertical-align: middle;\n",
       "    }\n",
       "\n",
       "    .dataframe tbody tr th {\n",
       "        vertical-align: top;\n",
       "    }\n",
       "\n",
       "    .dataframe thead th {\n",
       "        text-align: right;\n",
       "    }\n",
       "</style>\n",
       "<table border=\"1\" class=\"dataframe\">\n",
       "  <thead>\n",
       "    <tr style=\"text-align: right;\">\n",
       "      <th></th>\n",
       "      <th>TV Show</th>\n",
       "      <th>Number of Seasons</th>\n",
       "      <th>Season</th>\n",
       "      <th>Episode</th>\n",
       "      <th>Title</th>\n",
       "      <th>Released</th>\n",
       "      <th>Episode Rating</th>\n",
       "    </tr>\n",
       "  </thead>\n",
       "  <tbody>\n",
       "    <tr>\n",
       "      <th>0</th>\n",
       "      <td>Planet Earth II</td>\n",
       "      <td>1.0</td>\n",
       "      <td>1.0</td>\n",
       "      <td>1.0</td>\n",
       "      <td>Islands</td>\n",
       "      <td>2017-02-18</td>\n",
       "      <td>8.1</td>\n",
       "    </tr>\n",
       "    <tr>\n",
       "      <th>1</th>\n",
       "      <td>Planet Earth II</td>\n",
       "      <td>1.0</td>\n",
       "      <td>1.0</td>\n",
       "      <td>2.0</td>\n",
       "      <td>Mountains</td>\n",
       "      <td>2017-02-25</td>\n",
       "      <td>7.7</td>\n",
       "    </tr>\n",
       "    <tr>\n",
       "      <th>2</th>\n",
       "      <td>Planet Earth II</td>\n",
       "      <td>1.0</td>\n",
       "      <td>1.0</td>\n",
       "      <td>3.0</td>\n",
       "      <td>Jungles</td>\n",
       "      <td>2016-11-20</td>\n",
       "      <td>8.0</td>\n",
       "    </tr>\n",
       "    <tr>\n",
       "      <th>3</th>\n",
       "      <td>Planet Earth II</td>\n",
       "      <td>1.0</td>\n",
       "      <td>1.0</td>\n",
       "      <td>4.0</td>\n",
       "      <td>Deserts</td>\n",
       "      <td>2016-11-27</td>\n",
       "      <td>7.6</td>\n",
       "    </tr>\n",
       "    <tr>\n",
       "      <th>4</th>\n",
       "      <td>Planet Earth II</td>\n",
       "      <td>1.0</td>\n",
       "      <td>1.0</td>\n",
       "      <td>5.0</td>\n",
       "      <td>Grasslands</td>\n",
       "      <td>2017-03-18</td>\n",
       "      <td>6.8</td>\n",
       "    </tr>\n",
       "  </tbody>\n",
       "</table>\n",
       "</div>"
      ],
      "text/plain": [
       "           TV Show  Number of Seasons  Season  Episode       Title  \\\n",
       "0  Planet Earth II                1.0     1.0      1.0     Islands   \n",
       "1  Planet Earth II                1.0     1.0      2.0   Mountains   \n",
       "2  Planet Earth II                1.0     1.0      3.0     Jungles   \n",
       "3  Planet Earth II                1.0     1.0      4.0     Deserts   \n",
       "4  Planet Earth II                1.0     1.0      5.0  Grasslands   \n",
       "\n",
       "     Released Episode Rating  \n",
       "0  2017-02-18            8.1  \n",
       "1  2017-02-25            7.7  \n",
       "2  2016-11-20            8.0  \n",
       "3  2016-11-27            7.6  \n",
       "4  2017-03-18            6.8  "
      ]
     },
     "execution_count": 6,
     "metadata": {},
     "output_type": "execute_result"
    }
   ],
   "source": [
    "tvepisode_dt.head()"
   ]
  },
  {
   "cell_type": "markdown",
   "metadata": {},
   "source": [
    "### Merge with the Overall TV Show Rating"
   ]
  },
  {
   "cell_type": "code",
   "execution_count": 7,
   "metadata": {},
   "outputs": [],
   "source": [
    "tv_show_data = pd.merge(tvshow_dt, tvepisode_dt, how=\"inner\", on = \"TV Show\")"
   ]
  },
  {
   "cell_type": "code",
   "execution_count": 8,
   "metadata": {},
   "outputs": [],
   "source": [
    "#Save to Excel File\n",
    "tv_show_data.to_excel(\"Top_TV_shows.xls\",sheet_name = \"Top TV Shows\")"
   ]
  },
  {
   "cell_type": "code",
   "execution_count": null,
   "metadata": {},
   "outputs": [],
   "source": []
  },
  {
   "cell_type": "code",
   "execution_count": null,
   "metadata": {},
   "outputs": [],
   "source": []
  }
 ],
 "metadata": {
  "kernelspec": {
   "display_name": "Python 3",
   "language": "python",
   "name": "python3"
  },
  "language_info": {
   "codemirror_mode": {
    "name": "ipython",
    "version": 3
   },
   "file_extension": ".py",
   "mimetype": "text/x-python",
   "name": "python",
   "nbconvert_exporter": "python",
   "pygments_lexer": "ipython3",
   "version": "3.7.0"
  }
 },
 "nbformat": 4,
 "nbformat_minor": 2
}
