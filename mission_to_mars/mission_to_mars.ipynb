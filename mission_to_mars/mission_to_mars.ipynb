{
 "cells": [
  {
   "cell_type": "markdown",
   "metadata": {},
   "source": [
    "# Coolect various information on Mars\n",
    "For most of the websites, the first attempt to collect the information failed with BeautifulSoup, so we will implement a Try except block and attempt twice for any failure"
   ]
  },
  {
   "cell_type": "code",
   "execution_count": 1,
   "metadata": {},
   "outputs": [],
   "source": [
    "# Dependencies\n",
    "import time\n",
    "from splinter import Browser\n",
    "from bs4 import BeautifulSoup\n",
    "import requests\n",
    "import pandas as pd"
   ]
  },
  {
   "cell_type": "code",
   "execution_count": 2,
   "metadata": {},
   "outputs": [],
   "source": [
    "executable_path = {'executable_path': './chromedriver.exe'}\n",
    "browser = Browser('chrome', **executable_path, headless=False)"
   ]
  },
  {
   "cell_type": "markdown",
   "metadata": {},
   "source": [
    "## NASA Mars News\n",
    "Scrape the NASA Mars News Site and collect the latest News Title and Paragraph Text."
   ]
  },
  {
   "cell_type": "code",
   "execution_count": 3,
   "metadata": {},
   "outputs": [
    {
     "name": "stdout",
     "output_type": "stream",
     "text": [
      "news_title: After a Reset, Curiosity Is Operating Normally \n",
      " news_p: Curiosity has returned to science operations and is once again exploring the clay unit. \n"
     ]
    }
   ],
   "source": [
    "\n",
    "nasa_url = 'https://mars.nasa.gov/news/?page=0&per_page=40&order=publish_date+desc%2Ccreated_at+desc&search=&category=19%2C165%2C184%2C204&blank_scope=Latest'\n",
    "attempt = 2\n",
    "while attempt>=1:\n",
    "    try:\n",
    "        browser.visit(nasa_url)\n",
    "        news_response = browser.html\n",
    "        nasa_soup = BeautifulSoup(news_response, 'html.parser')\n",
    "        # Identify and return title of content\n",
    "        news_title = nasa_soup.find('div', class_=\"content_title\").text\n",
    "    \n",
    "        # Identify and return the paragraph\n",
    "        news_p = nasa_soup.find('div', class_=\"article_teaser_body\").text \n",
    "    \n",
    "        print(f\"news_title: {news_title}\",f\"\\n\", f\"news_p: {news_p}\")\n",
    "    \n",
    "    except:\n",
    "        attempt -= 1\n",
    "        print(f\"An error occured. There {attempt} attempt left\")\n",
    "        time.sleep(2)\n",
    "        \n",
    "    else:\n",
    "        attempt = 0"
   ]
  },
  {
   "cell_type": "markdown",
   "metadata": {},
   "source": [
    "## JPL Mars Space Images - Featured Image"
   ]
  },
  {
   "cell_type": "code",
   "execution_count": 4,
   "metadata": {},
   "outputs": [
    {
     "name": "stdout",
     "output_type": "stream",
     "text": [
      "An error occured. There 1 attempt left\n",
      "featured_image_url: https://www.jpl.nasa.gov/spaceimages/images/mediumsize/PIA12826_ip.jpg\n"
     ]
    }
   ],
   "source": [
    "url_root = \"https://www.jpl.nasa.gov\"\n",
    "im_url = \"https://www.jpl.nasa.gov/spaceimages/?search=&category=Mars\"\n",
    "attempt = 2\n",
    "while attempt>=1:\n",
    "    try:\n",
    "        browser.visit(im_url)\n",
    "        browser.click_link_by_partial_text(\"FULL IMAGE\")\n",
    "        img_response = browser.html\n",
    "        feat_soup = BeautifulSoup(img_response, 'html.parser')\n",
    "        image_link = feat_soup.find('img', class_=\"fancybox-image\")\n",
    "        image = image_link['src']\n",
    "        featured_image_url = f\"{url_root}{image}\"\n",
    "        print(f\"featured_image_url: {featured_image_url}\")\n",
    "    \n",
    "    except:\n",
    "        attempt -= 1\n",
    "        print(f\"An error occured. There {attempt} attempt left\")\n",
    "        time.sleep(2)\n",
    "        \n",
    "    else:\n",
    "        attempt = 0"
   ]
  },
  {
   "cell_type": "markdown",
   "metadata": {},
   "source": [
    "## Mars Weather"
   ]
  },
  {
   "cell_type": "code",
   "execution_count": 5,
   "metadata": {},
   "outputs": [
    {
     "name": "stdout",
     "output_type": "stream",
     "text": [
      "mars_weather: InSight sol 92 (2019-03-01) low -94.4ºC (-137.9ºF) high -12.9ºC (8.8ºF)\n",
      "winds from the SW at 4.6 m/s (10.2 mph) gusting to 10.4 m/s (23.2 mph)\n",
      "pressure at 7.20 hPa\n"
     ]
    }
   ],
   "source": [
    "twit_url = \"https://twitter.com/marswxreport?lang=en\"\n",
    "attempt = 2\n",
    "while attempt>=1:\n",
    "    try:\n",
    "        browser.visit(twit_url)\n",
    "        twit_response = browser.html\n",
    "        weath_soup = BeautifulSoup(twit_response, 'html.parser')\n",
    "        tweet = weath_soup.find('div', class_=\"js-stream-tweet\")\n",
    "        weather = tweet.find('p', class_=\"tweet-text\")\n",
    "        unwanted = weather.find('a')\n",
    "        unwanted.extract()\n",
    "        mars_weather = weather.text.strip()\n",
    "        print(f\"mars_weather: {mars_weather}\")\n",
    "    \n",
    "    except:\n",
    "        attempt -= 1\n",
    "        print(f\"An error occured. There {attempt} attempt left\")\n",
    "        time.sleep(2)\n",
    "        \n",
    "    else:\n",
    "        attempt = 0"
   ]
  },
  {
   "cell_type": "markdown",
   "metadata": {},
   "source": [
    "## Mars Facts"
   ]
  },
  {
   "cell_type": "code",
   "execution_count": 6,
   "metadata": {},
   "outputs": [
    {
     "name": "stdout",
     "output_type": "stream",
     "text": [
      "<table border=\"1\" class=\"dataframe\">\n",
      "  <thead>\n",
      "    <tr style=\"text-align: right;\">\n",
      "      <th>Parameter</th>\n",
      "      <th>Value</th>\n",
      "    </tr>\n",
      "  </thead>\n",
      "  <tbody>\n",
      "    <tr>\n",
      "      <td>Equatorial Diameter:</td>\n",
      "      <td>6,792 km</td>\n",
      "    </tr>\n",
      "    <tr>\n",
      "      <td>Polar Diameter:</td>\n",
      "      <td>6,752 km</td>\n",
      "    </tr>\n",
      "    <tr>\n",
      "      <td>Mass:</td>\n",
      "      <td>6.42 x 10^23 kg (10.7% Earth)</td>\n",
      "    </tr>\n",
      "    <tr>\n",
      "      <td>Moons:</td>\n",
      "      <td>2 (Phobos &amp; Deimos)</td>\n",
      "    </tr>\n",
      "    <tr>\n",
      "      <td>Orbit Distance:</td>\n",
      "      <td>227,943,824 km (1.52 AU)</td>\n",
      "    </tr>\n",
      "    <tr>\n",
      "      <td>Orbit Period:</td>\n",
      "      <td>687 days (1.9 years)</td>\n",
      "    </tr>\n",
      "    <tr>\n",
      "      <td>Surface Temperature:</td>\n",
      "      <td>-153 to 20 °C</td>\n",
      "    </tr>\n",
      "    <tr>\n",
      "      <td>First Record:</td>\n",
      "      <td>2nd millennium BC</td>\n",
      "    </tr>\n",
      "    <tr>\n",
      "      <td>Recorded By:</td>\n",
      "      <td>Egyptian astronomers</td>\n",
      "    </tr>\n",
      "  </tbody>\n",
      "</table>\n"
     ]
    }
   ],
   "source": [
    "fact_url = \"https://space-facts.com/mars/\"\n",
    "table = pd.read_html(fact_url,thousands=',')[0].rename(columns={0:'Parameter',1:'Value'})\n",
    "mars_fact = table.to_html(index=False)\n",
    "print(mars_fact)"
   ]
  },
  {
   "cell_type": "markdown",
   "metadata": {},
   "source": [
    "## Mars Hemispheres"
   ]
  },
  {
   "cell_type": "code",
   "execution_count": 8,
   "metadata": {},
   "outputs": [
    {
     "data": {
      "text/plain": [
       "[{'title': 'Cerberus Hemisphere',\n",
       "  'img_url': 'https://astrogeology.usgs.gov/cache/images/cfa62af2557222a02478f1fcd781d445_cerberus_enhanced.tif_full.jpg'},\n",
       " {'title': 'Schiaparelli Hemisphere',\n",
       "  'img_url': 'https://astrogeology.usgs.gov/cache/images/3cdd1cbf5e0813bba925c9030d13b62e_schiaparelli_enhanced.tif_full.jpg'},\n",
       " {'title': 'Syrtis Major Hemisphere',\n",
       "  'img_url': 'https://astrogeology.usgs.gov/cache/images/ae209b4e408bb6c3e67b6af38168cf28_syrtis_major_enhanced.tif_full.jpg'},\n",
       " {'title': 'Valles Marineris Hemisphere',\n",
       "  'img_url': 'https://astrogeology.usgs.gov/cache/images/7cf2da4bf549ed01c17f206327be4db7_valles_marineris_enhanced.tif_full.jpg'}]"
      ]
     },
     "execution_count": 8,
     "metadata": {},
     "output_type": "execute_result"
    }
   ],
   "source": [
    "#Get the list of the Hemispheres\n",
    "hemis_url = \"https://astrogeology.usgs.gov/search/results?q=hemisphere+enhanced&k1=target&v1=Mars\"\n",
    "attempt = 2\n",
    "while attempt>=1:\n",
    "    try:\n",
    "        browser.visit(hemis_url)\n",
    "        hemis_response = browser.html\n",
    "        hemis_soup = BeautifulSoup(hemis_response, 'html.parser')\n",
    "        items = hemis_soup.find_all(\"div\", class_=\"description\")\n",
    "        hemisphere_title = []\n",
    "        for item in items:\n",
    "            title_text = item.find('h3').text\n",
    "            hemisphere_title.append(title_text)\n",
    "    except:\n",
    "        attempt -= 1\n",
    "        print(f\"An error occured. There {attempt} attempt left\")\n",
    "        time.sleep(2)\n",
    "        \n",
    "    else:\n",
    "        attempt = 0\n",
    "\n",
    "#Get the Hemispheres images urls\n",
    "def get_image_url(item):\n",
    "    remove = \" Enhanced\"\n",
    "    thelen = len(remove)\n",
    "    new_item = item\n",
    "    if item[-thelen:] == remove:\n",
    "        new_item = item[:-thelen]\n",
    "    hemis_url = \"https://astrogeology.usgs.gov/search/results?q=hemisphere+enhanced&k1=target&v1=Mars\"\n",
    "    attempt = 2\n",
    "    while attempt>=1:\n",
    "        try:\n",
    "            browser.visit(hemis_url)\n",
    "            browser.click_link_by_partial_text(item)\n",
    "            img_root = \"https://astrogeology.usgs.gov\"\n",
    "            img_response = browser.html\n",
    "            himg_soup = BeautifulSoup(img_response, 'html.parser')\n",
    "            image_link = himg_soup.find('img', class_=\"wide-image\")\n",
    "            image = image_link['src']\n",
    "            image_url = f\"{img_root}{image}\"\n",
    "    \n",
    "        except:\n",
    "            attempt -= 1\n",
    "            print(f\"An error occured. There {attempt} attempt left\")\n",
    "            time.sleep(2)\n",
    "\n",
    "        else:\n",
    "            attempt = 0\n",
    "    return {'title':new_item, \"img_url\": image_url}\n",
    "\n",
    "hemisphere_image_urls = list(map(get_image_url, hemisphere_title))\n",
    "hemisphere_image_urls"
   ]
  },
  {
   "cell_type": "code",
   "execution_count": 9,
   "metadata": {},
   "outputs": [],
   "source": [
    "browser.quit()"
   ]
  },
  {
   "cell_type": "code",
   "execution_count": null,
   "metadata": {},
   "outputs": [],
   "source": []
  },
  {
   "cell_type": "code",
   "execution_count": null,
   "metadata": {},
   "outputs": [],
   "source": []
  }
 ],
 "metadata": {
  "kernelspec": {
   "display_name": "Python 3",
   "language": "python",
   "name": "python3"
  },
  "language_info": {
   "codemirror_mode": {
    "name": "ipython",
    "version": 3
   },
   "file_extension": ".py",
   "mimetype": "text/x-python",
   "name": "python",
   "nbconvert_exporter": "python",
   "pygments_lexer": "ipython3",
   "version": "3.7.0"
  }
 },
 "nbformat": 4,
 "nbformat_minor": 2
}
